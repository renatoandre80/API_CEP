{
 "cells": [
  {
   "cell_type": "code",
   "execution_count": 1,
   "metadata": {},
   "outputs": [],
   "source": [
    "## Scrip básico para consumo de uma API pública de cep , os ceps foram de locais de experiência do autor:\n",
    "\n",
    "\n",
    "# Principais bibliotecas para o projeto\n",
    "import requests\n",
    "import json\n",
    "import pandas as pd\n",
    "import folium\n",
    "\n",
    "# Lista com os ceps:\n",
    "\n",
    "lista_cep=['09920-175','09980-550','09606-045','09606-045','01045-903','09895-510','09980797']\n",
    "\n",
    "# Tratando os dados pois a API só aceita caracteres numéricos\n",
    "\n",
    "lista_cep_tratado=[]\n",
    "\n",
    "\n",
    "for cep in lista_cep:\n",
    "    tratado=cep.replace(\"-\",\"\")\n",
    "    lista_cep_tratado.append(tratado)\n",
    "\n",
    "# Fazendo a requisição na API \n",
    "\n",
    "json_cep = []\n",
    "\n",
    "for cep in lista_cep_tratado:\n",
    "    requisicao = f'https://cep.awesomeapi.com.br/json/{cep}'\n",
    "    resposta = requests.get(requisicao)\n",
    "    try:\n",
    "        js_requisicao = resposta.json()\n",
    "        json_cep.append(js_requisicao)\n",
    "    except :\n",
    "        print(f\"Erro ao obter informações do CEP \")\n",
    "\n",
    "\n",
    "## Transformado o json em um data frame:\n",
    "\n",
    "df_cep=pd.DataFrame(json_cep)\n",
    "\n",
    "## Usando a biblioteca folium e plotando o mapa das principais regiões de locomoção do autor:\n",
    "\n",
    "# Coordenadas de São Paulo\n",
    "latitude_sp = -23.5505\n",
    "longitude_sp = -46.6333\n",
    "\n",
    "# Criar o mapa centrado em São Paulo\n",
    "mapa_sp = folium.Map(location=[latitude_sp, longitude_sp], zoom_start=10)\n",
    "\n",
    "\n",
    "\n",
    "# Adicionar marcadores ao mapa\n",
    "for index, row in df_cep.iterrows():\n",
    "    folium.Marker([row['lat'], row['lng']], \n",
    "                  popup=f\"{row['address_name']} - {row['address']}\").add_to(mapa_sp)\n",
    "\n",
    "# Exibir o mapa\n",
    "mapa_sp\n",
    "\n",
    "\n",
    "# Salvar o mapa como um arquivo HTML\n",
    "mapa_sp.save(\"mapa_sp.html\")\n"
   ]
  },
  {
   "cell_type": "markdown",
   "metadata": {},
   "source": [
    "## O Objetivo desse script era a utilização de uma API pública, e plotagem de um mapa com as principais cidades que o autor, vivenciou até o momento"
   ]
  }
 ],
 "metadata": {
  "kernelspec": {
   "display_name": "Python 3",
   "language": "python",
   "name": "python3"
  },
  "language_info": {
   "codemirror_mode": {
    "name": "ipython",
    "version": 3
   },
   "file_extension": ".py",
   "mimetype": "text/x-python",
   "name": "python",
   "nbconvert_exporter": "python",
   "pygments_lexer": "ipython3",
   "version": "3.11.5"
  }
 },
 "nbformat": 4,
 "nbformat_minor": 2
}
